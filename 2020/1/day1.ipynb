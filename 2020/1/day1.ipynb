{
 "cells": [
  {
   "cell_type": "markdown",
   "metadata": {},
   "source": [
    "### --- Part One ---\n",
    "\n",
    "Before you leave, the Elves in accounting just need you to fix your expense report (your puzzle input); apparently, something isn't quite adding up.\n",
    "\n",
    "Specifically, they need you to find the two entries that sum to 2020 and then multiply those two numbers together.\n",
    "\n",
    "For example, suppose your expense report contained the following:\n",
    "\n",
    "1721\n",
    "979\n",
    "366\n",
    "299\n",
    "675\n",
    "1456\n",
    "\n",
    "In this list, the two entries that sum to 2020 are 1721 and 299. Multiplying them together produces 1721 * 299 = 514579, so the correct answer is 514579.\n",
    "\n",
    "Of course, your expense report is much larger. Find the two entries that sum to 2020; what do you get if you multiply them together?"
   ]
  },
  {
   "cell_type": "code",
   "execution_count": 5,
   "metadata": {},
   "outputs": [],
   "source": [
    "inputFile = open(\"day1.input\")\n",
    "inputList = [int(i) for i in inputFile.readlines()]"
   ]
  },
  {
   "cell_type": "code",
   "execution_count": 8,
   "metadata": {},
   "outputs": [
    {
     "name": "stdout",
     "output_type": "stream",
     "text": [
      "744475\n"
     ]
    }
   ],
   "source": [
    "# Solution 1\n",
    "for expense in inputList:\n",
    "    count = inputList.index(expense)\n",
    "    while count < len(inputList):\n",
    "        if expense + inputList[count] == 2020:\n",
    "            print(expense * inputList[count])\n",
    "            break\n",
    "        count += 1"
   ]
  },
  {
   "cell_type": "code",
   "execution_count": 74,
   "metadata": {},
   "outputs": [
    {
     "name": "stdout",
     "output_type": "stream",
     "text": [
      "744475\n"
     ]
    }
   ],
   "source": [
    "# Solution 2\n",
    "%%timeit\n",
    "def expenselist():\n",
    "    for i, expense in enumerate(inputList):\n",
    "        for x in range(i+1, len(inputList)):\n",
    "            if expense + inputList[x] == 2020:\n",
    "                return expense * inputList[x]\n",
    "            \n",
    "print(expenselist())"
   ]
  },
  {
   "cell_type": "markdown",
   "metadata": {},
   "source": [
    "### --- Part Two ---\n",
    "\n",
    "The Elves in accounting are thankful for your help; one of them even offers you a starfish coin they had left over from a past vacation. They offer you a second one if you can find three numbers in your expense report that meet the same criteria.\n",
    "\n",
    "Using the above example again, the three entries that sum to 2020 are 979, 366, and 675. Multiplying them together produces the answer, 241861950.\n",
    "\n",
    "In your expense report, what is the product of the three entries that sum to 2020?"
   ]
  },
  {
   "cell_type": "code",
   "execution_count": 80,
   "metadata": {},
   "outputs": [
    {
     "name": "stdout",
     "output_type": "stream",
     "text": [
      "70276940\n"
     ]
    }
   ],
   "source": [
    "# Solution 1\n",
    "def expenselist():\n",
    "    for i, expense in enumerate(inputList):\n",
    "        for j in range(i+1, len(inputList)):\n",
    "            for k in range(j+1, len(inputList)):\n",
    "                if expense + inputList[j] + inputList[k] == 2020:\n",
    "                    return expense * inputList[j] * inputList[k]\n",
    "            \n",
    "print(expenselist())"
   ]
  }
 ],
 "metadata": {
  "kernelspec": {
   "display_name": "Python 3",
   "language": "python",
   "name": "python3"
  },
  "language_info": {
   "codemirror_mode": {
    "name": "ipython",
    "version": 3
   },
   "file_extension": ".py",
   "mimetype": "text/x-python",
   "name": "python",
   "nbconvert_exporter": "python",
   "pygments_lexer": "ipython3",
   "version": "3.8.5"
  }
 },
 "nbformat": 4,
 "nbformat_minor": 4
}
